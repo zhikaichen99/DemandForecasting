{
 "cells": [
  {
   "cell_type": "code",
   "execution_count": 1,
   "metadata": {},
   "outputs": [],
   "source": [
    "import numpy as np\n",
    "import pandas as pd\n",
    "import matplotlib.pyplot as plt\n",
    "import seaborn as sns\n",
    "import scipy"
   ]
  },
  {
   "cell_type": "code",
   "execution_count": null,
   "metadata": {},
   "outputs": [],
   "source": [
    "def moving_average(demand, extra_periods = 1, n = 3):\n",
    "    \n",
    "    # Length of historical period\n",
    "    per_length = len(demand)\n",
    "    # append np.nan into the demand array to cover future periods\n",
    "    demand = np.append(demand, [np.nan]*extra_periods)\n",
    "    # define the forecast array\n",
    "    forecast = np.full(per_length + extra_periods)\n",
    "    \n",
    "    # Create all the t+1 forecast until end of historical period\n",
    "    for t in range(n, per_length):\n",
    "        forecast[t] = np.mean(demand[t-n:t])\n",
    "    \n",
    "    # Forecast for all extra periods\n",
    "    forecast[t+1:] = np.mean(d[t-n+1:t+1])\n",
    "    \n",
    "    # Return dataframe with the demand, forecast and error \n",
    "    df = pd.DataFrame.from_dict({\"Demand\": demand, \"Forecast\": forecast, \n",
    "                                \"Error\": demand - forecast})\n",
    "    \n",
    "    return df"
   ]
  }
 ],
 "metadata": {
  "kernelspec": {
   "display_name": "Python 3",
   "language": "python",
   "name": "python3"
  },
  "language_info": {
   "codemirror_mode": {
    "name": "ipython",
    "version": 3
   },
   "file_extension": ".py",
   "mimetype": "text/x-python",
   "name": "python",
   "nbconvert_exporter": "python",
   "pygments_lexer": "ipython3",
   "version": "3.7.6"
  }
 },
 "nbformat": 4,
 "nbformat_minor": 4
}
