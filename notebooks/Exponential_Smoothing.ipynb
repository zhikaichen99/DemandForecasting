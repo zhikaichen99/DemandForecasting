{
 "cells": [
  {
   "cell_type": "markdown",
   "metadata": {},
   "source": [
    "# Forecasting Prediction Using Exponential Smoothing"
   ]
  },
  {
   "cell_type": "code",
   "execution_count": 1,
   "metadata": {},
   "outputs": [],
   "source": [
    "import pandas as pd\n",
    "import numpy as np\n",
    "import datetime\n",
    "import warnings\n",
    "import matplotlib.pyplot as plt\n",
    "import statsmodels.api as sm\n",
    "\n",
    "from sklearn.metrics import mean_squared_error, mean_absolute_error\n",
    "from sklearn.model_selection import train_test_split\n",
    "\n",
    "warnings.filterwarnings('ignore')"
   ]
  },
  {
   "cell_type": "markdown",
   "metadata": {},
   "source": [
    "## Simple Exponential Smoothing"
   ]
  },
  {
   "cell_type": "markdown",
   "metadata": {},
   "source": [
    "* One of the simplest ways to forecast a time series.\n",
    "* One of the main advantages it has over simple forecasting methods such as Naive and Moving Average is that the weight put on each observation decreases exponentially. The most recent observation has the highest weight. Moving Average gives the same weight to all historical data."
   ]
  },
  {
   "cell_type": "markdown",
   "metadata": {},
   "source": [
    "#### How it works"
   ]
  },
  {
   "cell_type": "markdown",
   "metadata": {},
   "source": [
    "$$f_t = \\alpha d_{t-1} + (1 - \\alpha)f_{t-1}$$\n",
    "\n",
    "* At each period, the model will learn a bit from the most recent demand observation and remember a bit of the last forecast it did.\n",
    "* $\\alpha$ is the importance given to the most recent demand history. The values of $\\alpha$ range from 0 to 1.\n",
    "* There is a tradeoff with $\\alpha$:\n",
    "    * If $\\alpha$ is too large, the model will be reactive to change in demand level, however will be sensitive to noise and outliers.\n",
    "    * If $\\alpha$ is too small, the model will be less sensitive to noise and outliers, however the model will not react rapidly to changes in demand level."
   ]
  },
  {
   "cell_type": "markdown",
   "metadata": {},
   "source": [
    "#### Why is it called Exponential Smoothing?"
   ]
  },
  {
   "cell_type": "markdown",
   "metadata": {},
   "source": [
    "The reason why it is called Exponential Smoothing is because the weight given to each demand observation is exponentially reduced by a factor of $(1- \\alpha)$"
   ]
  },
  {
   "cell_type": "markdown",
   "metadata": {},
   "source": [
    "$$f_t = \\alpha d_{t-1} + (1 - \\alpha)f_{t-1}$$\n",
    "$$ = \\alpha d_{t-1} + (1 - \\alpha)(\\alpha d_{t-2} + (1 - \\alpha)f_{t-2})$$\n",
    "$$ = \\alpha d_{t-1} + \\alpha(1 - \\alpha)d_{t-2} + (1 - \\alpha)^2f_{t-2})$$"
   ]
  },
  {
   "cell_type": "markdown",
   "metadata": {},
   "source": [
    "The weight given to $d_{t-2}$ is $\\alpha(1-\\alpha)$ which is lower than the weight given to $d_{t-1}$\n",
    "\n",
    "We can further decompose this formula to see that the weight of $d_{t-3}$ is even less"
   ]
  },
  {
   "cell_type": "markdown",
   "metadata": {},
   "source": [
    "$$ = \\alpha d_{t-1} + \\alpha(1 - \\alpha)d_{t-2} + (1 - \\alpha)^2f_{t-2})$$\n",
    "$$ = \\alpha d_{t-1} + \\alpha(1 - \\alpha)d_{t-2} + (1 - \\alpha)^2(\\alpha d_{t-3} + (1 - \\alpha)f_{t-3})$$\n",
    "$$ = \\alpha d_{t-1} + \\alpha(1 - \\alpha)d_{t-2} + (1 - \\alpha)^2 d_{t-3} + (1 - \\alpha)^3 f_{t-3}$$"
   ]
  },
  {
   "cell_type": "markdown",
   "metadata": {},
   "source": [
    "The weight of $d_{t-3}$ is $\\alpha (1 - \\alpha)^2$. It is further reduced from the previous demand by a factor of $(1 - \\alpha)$"
   ]
  },
  {
   "cell_type": "markdown",
   "metadata": {},
   "source": [
    "## #"
   ]
  },
  {
   "cell_type": "code",
   "execution_count": null,
   "metadata": {},
   "outputs": [],
   "source": [
    "def simple_exponential_smoothing(time_series, alpha, num_future):\n",
    "    "
   ]
  },
  {
   "cell_type": "code",
   "execution_count": null,
   "metadata": {},
   "outputs": [],
   "source": []
  }
 ],
 "metadata": {
  "kernelspec": {
   "display_name": "Python 3",
   "language": "python",
   "name": "python3"
  },
  "language_info": {
   "codemirror_mode": {
    "name": "ipython",
    "version": 3
   },
   "file_extension": ".py",
   "mimetype": "text/x-python",
   "name": "python",
   "nbconvert_exporter": "python",
   "pygments_lexer": "ipython3",
   "version": "3.7.6"
  }
 },
 "nbformat": 4,
 "nbformat_minor": 4
}
