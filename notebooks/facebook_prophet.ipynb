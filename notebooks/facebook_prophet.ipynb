{
 "cells": [
  {
   "cell_type": "markdown",
   "metadata": {},
   "source": [
    "# Forecasting Prediction using Facebook's Prophet model"
   ]
  },
  {
   "cell_type": "code",
   "execution_count": 2,
   "metadata": {},
   "outputs": [],
   "source": [
    "import pandas as pd\n",
    "import numpy as np\n",
    "import datetime\n",
    "import requests\n",
    "import warnings\n",
    "import matplotlib.pyplot as plt\n",
    "import matplotlib\n",
    "import matplotlib.dates as mdates\n",
    "import statsmodels.api as sm\n",
    "\n",
    "\n",
    "from sklearn.model_selection import TimeSeriesSplit\n",
    "from statsmodels.tsa.seasonal import seasonal_decompose\n",
    "from sklearn.metrics import mean_squared_error, mean_absolute_error\n",
    "from sklearn.model_selection import train_test_split\n",
    "from fbprophet import Prophet"
   ]
  },
  {
   "cell_type": "code",
   "execution_count": 3,
   "metadata": {},
   "outputs": [],
   "source": [
    "#!conda install -c conda-forge fbprophet -y"
   ]
  },
  {
   "cell_type": "code",
   "execution_count": 4,
   "metadata": {},
   "outputs": [],
   "source": [
    "#!pip install --upgrade plotly"
   ]
  },
  {
   "cell_type": "code",
   "execution_count": 45,
   "metadata": {},
   "outputs": [],
   "source": [
    "data = pd.read_csv('../data/train.csv')"
   ]
  },
  {
   "cell_type": "code",
   "execution_count": 95,
   "metadata": {},
   "outputs": [],
   "source": [
    "data_1_1 = data[data['store'] == 1]\n",
    "data_1_1 = data_1_1[data_1_1['item'] == 1]\n",
    "data_1_1 = data_1_1[['date','sales']]\n",
    "data_1_1 = data_1_1.set_index('date')"
   ]
  },
  {
   "cell_type": "markdown",
   "metadata": {},
   "source": [
    "## Stationarizing Time Series Data"
   ]
  },
  {
   "cell_type": "markdown",
   "metadata": {},
   "source": [
    "Differencing is a technique used to remove trends if the series is stationary around a trend.\n",
    "\n",
    "This is the same differencing process used in the ARIMA model"
   ]
  },
  {
   "cell_type": "markdown",
   "metadata": {},
   "source": [
    "#### Differencing"
   ]
  },
  {
   "cell_type": "code",
   "execution_count": 96,
   "metadata": {},
   "outputs": [],
   "source": [
    "first_diff = data_1_1.sales - data_1_1.sales.shift(1)\n",
    "first_diff = first_diff.dropna()"
   ]
  },
  {
   "cell_type": "code",
   "execution_count": 97,
   "metadata": {},
   "outputs": [],
   "source": [
    "first_diff = pd.DataFrame(data = {'ds': first_diff.index, 'y': first_diff.values})"
   ]
  },
  {
   "cell_type": "code",
   "execution_count": 98,
   "metadata": {},
   "outputs": [],
   "source": [
    "cutoff_date = '2017-10-01'\n",
    "\n",
    "train = first_diff.loc[first_diff.ds < cutoff_date]\n",
    "test = first_diff.loc[first_diff.ds >= cutoff_date]"
   ]
  },
  {
   "cell_type": "code",
   "execution_count": 99,
   "metadata": {},
   "outputs": [
    {
     "data": {
      "text/html": [
       "<div>\n",
       "<style scoped>\n",
       "    .dataframe tbody tr th:only-of-type {\n",
       "        vertical-align: middle;\n",
       "    }\n",
       "\n",
       "    .dataframe tbody tr th {\n",
       "        vertical-align: top;\n",
       "    }\n",
       "\n",
       "    .dataframe thead th {\n",
       "        text-align: right;\n",
       "    }\n",
       "</style>\n",
       "<table border=\"1\" class=\"dataframe\">\n",
       "  <thead>\n",
       "    <tr style=\"text-align: right;\">\n",
       "      <th></th>\n",
       "      <th>ds</th>\n",
       "      <th>y</th>\n",
       "    </tr>\n",
       "  </thead>\n",
       "  <tbody>\n",
       "    <tr>\n",
       "      <th>0</th>\n",
       "      <td>2013-01-02</td>\n",
       "      <td>-2.0</td>\n",
       "    </tr>\n",
       "    <tr>\n",
       "      <th>1</th>\n",
       "      <td>2013-01-03</td>\n",
       "      <td>3.0</td>\n",
       "    </tr>\n",
       "    <tr>\n",
       "      <th>2</th>\n",
       "      <td>2013-01-04</td>\n",
       "      <td>-1.0</td>\n",
       "    </tr>\n",
       "    <tr>\n",
       "      <th>3</th>\n",
       "      <td>2013-01-05</td>\n",
       "      <td>-3.0</td>\n",
       "    </tr>\n",
       "    <tr>\n",
       "      <th>4</th>\n",
       "      <td>2013-01-06</td>\n",
       "      <td>2.0</td>\n",
       "    </tr>\n",
       "  </tbody>\n",
       "</table>\n",
       "</div>"
      ],
      "text/plain": [
       "           ds    y\n",
       "0  2013-01-02 -2.0\n",
       "1  2013-01-03  3.0\n",
       "2  2013-01-04 -1.0\n",
       "3  2013-01-05 -3.0\n",
       "4  2013-01-06  2.0"
      ]
     },
     "execution_count": 99,
     "metadata": {},
     "output_type": "execute_result"
    }
   ],
   "source": [
    "train.head()"
   ]
  },
  {
   "cell_type": "markdown",
   "metadata": {},
   "source": [
    "## Facebook's Prophet Model"
   ]
  },
  {
   "cell_type": "markdown",
   "metadata": {},
   "source": [
    "* Facebook's Prophet is an open-source library designed for making forecasts for univariate time series. In this case the variable we are trying to forecast is the number of sales\n",
    "* Automatically finds the most optimal hyperparemeters for the model.\n",
    "* Decomposes the time series into trend, seasonality, and holiday effect"
   ]
  },
  {
   "cell_type": "markdown",
   "metadata": {},
   "source": [
    "#### How Prophet works"
   ]
  },
  {
   "cell_type": "markdown",
   "metadata": {},
   "source": [
    "The Prophet procedure is an additive regression model with four main components:\n",
    "\n",
    "$$y(t) = g(t) + s(t) + h(t)$$"
   ]
  },
  {
   "cell_type": "markdown",
   "metadata": {},
   "source": [
    "Trend $g(t)$\n",
    "\n",
    "* $g(t)$ is the trend function. This function models the non-periodic change in the value of the time series."
   ]
  },
  {
   "cell_type": "markdown",
   "metadata": {},
   "source": [
    "Seasonality $s(t)$\n",
    "\n",
    "* $s(t)$ is the seasonality function (weekly and yearly seasonality). This function models the periodic changes."
   ]
  },
  {
   "cell_type": "markdown",
   "metadata": {},
   "source": [
    "Holiday $h(t)$\n",
    "\n",
    "* $h(t)$ is the holiday function. This function models the effects of holidays which occur on potentially irregular schedules over one or more days"
   ]
  },
  {
   "cell_type": "markdown",
   "metadata": {},
   "source": [
    "The input to Prophet model is always a dataframe with two columns:\n",
    "* ds - datestamp. In a format expected by pandas.\n",
    "* y - numeric value. This is the value we want to forecast\n",
    "\n",
    "Prophet imposes the strict condition that the input columns **must** be named **ds** and **y**"
   ]
  },
  {
   "cell_type": "code",
   "execution_count": 100,
   "metadata": {},
   "outputs": [
    {
     "name": "stderr",
     "output_type": "stream",
     "text": [
      "INFO:fbprophet:Disabling daily seasonality. Run prophet with daily_seasonality=True to override this.\n",
      "/Users/zhikaichen/opt/anaconda3/lib/python3.7/site-packages/fbprophet/forecaster.py:400: FutureWarning: The pandas.datetime class is deprecated and will be removed from pandas in a future version. Import from datetime module instead.\n",
      "  (dates - pd.datetime(1970, 1, 1))\n"
     ]
    },
    {
     "data": {
      "text/plain": [
       "<fbprophet.forecaster.Prophet at 0x7fb5daf82810>"
      ]
     },
     "execution_count": 100,
     "metadata": {},
     "output_type": "execute_result"
    }
   ],
   "source": [
    "model = Prophet()\n",
    "model.fit(train)"
   ]
  },
  {
   "cell_type": "code",
   "execution_count": 101,
   "metadata": {},
   "outputs": [
    {
     "name": "stderr",
     "output_type": "stream",
     "text": [
      "/Users/zhikaichen/opt/anaconda3/lib/python3.7/site-packages/fbprophet/forecaster.py:400: FutureWarning: The pandas.datetime class is deprecated and will be removed from pandas in a future version. Import from datetime module instead.\n",
      "  (dates - pd.datetime(1970, 1, 1))\n"
     ]
    }
   ],
   "source": [
    "future = model.make_future_dataframe(periods = test.shape[0])\n",
    "prophet_prediction = model.predict(future)"
   ]
  },
  {
   "cell_type": "code",
   "execution_count": 112,
   "metadata": {},
   "outputs": [
    {
     "data": {
      "text/html": [
       "<div>\n",
       "<style scoped>\n",
       "    .dataframe tbody tr th:only-of-type {\n",
       "        vertical-align: middle;\n",
       "    }\n",
       "\n",
       "    .dataframe tbody tr th {\n",
       "        vertical-align: top;\n",
       "    }\n",
       "\n",
       "    .dataframe thead th {\n",
       "        text-align: right;\n",
       "    }\n",
       "</style>\n",
       "<table border=\"1\" class=\"dataframe\">\n",
       "  <thead>\n",
       "    <tr style=\"text-align: right;\">\n",
       "      <th></th>\n",
       "      <th>trend</th>\n",
       "      <th>yhat_lower</th>\n",
       "      <th>yhat_upper</th>\n",
       "      <th>trend_lower</th>\n",
       "      <th>trend_upper</th>\n",
       "      <th>additive_terms</th>\n",
       "      <th>additive_terms_lower</th>\n",
       "      <th>additive_terms_upper</th>\n",
       "      <th>weekly</th>\n",
       "      <th>weekly_lower</th>\n",
       "      <th>weekly_upper</th>\n",
       "      <th>yearly</th>\n",
       "      <th>yearly_lower</th>\n",
       "      <th>yearly_upper</th>\n",
       "      <th>multiplicative_terms</th>\n",
       "      <th>multiplicative_terms_lower</th>\n",
       "      <th>multiplicative_terms_upper</th>\n",
       "      <th>yhat</th>\n",
       "    </tr>\n",
       "    <tr>\n",
       "      <th>ds</th>\n",
       "      <th></th>\n",
       "      <th></th>\n",
       "      <th></th>\n",
       "      <th></th>\n",
       "      <th></th>\n",
       "      <th></th>\n",
       "      <th></th>\n",
       "      <th></th>\n",
       "      <th></th>\n",
       "      <th></th>\n",
       "      <th></th>\n",
       "      <th></th>\n",
       "      <th></th>\n",
       "      <th></th>\n",
       "      <th></th>\n",
       "      <th></th>\n",
       "      <th></th>\n",
       "      <th></th>\n",
       "    </tr>\n",
       "  </thead>\n",
       "  <tbody>\n",
       "    <tr>\n",
       "      <th>2013-01-02</th>\n",
       "      <td>-0.030314</td>\n",
       "      <td>-7.250485</td>\n",
       "      <td>8.578398</td>\n",
       "      <td>-0.030314</td>\n",
       "      <td>-0.030314</td>\n",
       "      <td>0.638613</td>\n",
       "      <td>0.638613</td>\n",
       "      <td>0.638613</td>\n",
       "      <td>0.686754</td>\n",
       "      <td>0.686754</td>\n",
       "      <td>0.686754</td>\n",
       "      <td>-0.048141</td>\n",
       "      <td>-0.048141</td>\n",
       "      <td>-0.048141</td>\n",
       "      <td>0.0</td>\n",
       "      <td>0.0</td>\n",
       "      <td>0.0</td>\n",
       "      <td>0.608299</td>\n",
       "    </tr>\n",
       "    <tr>\n",
       "      <th>2013-01-03</th>\n",
       "      <td>-0.030284</td>\n",
       "      <td>-7.741417</td>\n",
       "      <td>8.507537</td>\n",
       "      <td>-0.030284</td>\n",
       "      <td>-0.030284</td>\n",
       "      <td>0.498984</td>\n",
       "      <td>0.498984</td>\n",
       "      <td>0.498984</td>\n",
       "      <td>0.561630</td>\n",
       "      <td>0.561630</td>\n",
       "      <td>0.561630</td>\n",
       "      <td>-0.062646</td>\n",
       "      <td>-0.062646</td>\n",
       "      <td>-0.062646</td>\n",
       "      <td>0.0</td>\n",
       "      <td>0.0</td>\n",
       "      <td>0.0</td>\n",
       "      <td>0.468700</td>\n",
       "    </tr>\n",
       "    <tr>\n",
       "      <th>2013-01-04</th>\n",
       "      <td>-0.030254</td>\n",
       "      <td>-6.974293</td>\n",
       "      <td>9.739338</td>\n",
       "      <td>-0.030254</td>\n",
       "      <td>-0.030254</td>\n",
       "      <td>1.659850</td>\n",
       "      <td>1.659850</td>\n",
       "      <td>1.659850</td>\n",
       "      <td>1.735158</td>\n",
       "      <td>1.735158</td>\n",
       "      <td>1.735158</td>\n",
       "      <td>-0.075307</td>\n",
       "      <td>-0.075307</td>\n",
       "      <td>-0.075307</td>\n",
       "      <td>0.0</td>\n",
       "      <td>0.0</td>\n",
       "      <td>0.0</td>\n",
       "      <td>1.629596</td>\n",
       "    </tr>\n",
       "    <tr>\n",
       "      <th>2013-01-05</th>\n",
       "      <td>-0.030224</td>\n",
       "      <td>-6.260049</td>\n",
       "      <td>9.582407</td>\n",
       "      <td>-0.030224</td>\n",
       "      <td>-0.030224</td>\n",
       "      <td>1.661414</td>\n",
       "      <td>1.661414</td>\n",
       "      <td>1.661414</td>\n",
       "      <td>1.747136</td>\n",
       "      <td>1.747136</td>\n",
       "      <td>1.747136</td>\n",
       "      <td>-0.085722</td>\n",
       "      <td>-0.085722</td>\n",
       "      <td>-0.085722</td>\n",
       "      <td>0.0</td>\n",
       "      <td>0.0</td>\n",
       "      <td>0.0</td>\n",
       "      <td>1.631189</td>\n",
       "    </tr>\n",
       "    <tr>\n",
       "      <th>2013-01-06</th>\n",
       "      <td>-0.030195</td>\n",
       "      <td>-7.214068</td>\n",
       "      <td>8.658688</td>\n",
       "      <td>-0.030195</td>\n",
       "      <td>-0.030195</td>\n",
       "      <td>0.757997</td>\n",
       "      <td>0.757997</td>\n",
       "      <td>0.757997</td>\n",
       "      <td>0.851565</td>\n",
       "      <td>0.851565</td>\n",
       "      <td>0.851565</td>\n",
       "      <td>-0.093568</td>\n",
       "      <td>-0.093568</td>\n",
       "      <td>-0.093568</td>\n",
       "      <td>0.0</td>\n",
       "      <td>0.0</td>\n",
       "      <td>0.0</td>\n",
       "      <td>0.727802</td>\n",
       "    </tr>\n",
       "  </tbody>\n",
       "</table>\n",
       "</div>"
      ],
      "text/plain": [
       "               trend  yhat_lower  yhat_upper  trend_lower  trend_upper  \\\n",
       "ds                                                                       \n",
       "2013-01-02 -0.030314   -7.250485    8.578398    -0.030314    -0.030314   \n",
       "2013-01-03 -0.030284   -7.741417    8.507537    -0.030284    -0.030284   \n",
       "2013-01-04 -0.030254   -6.974293    9.739338    -0.030254    -0.030254   \n",
       "2013-01-05 -0.030224   -6.260049    9.582407    -0.030224    -0.030224   \n",
       "2013-01-06 -0.030195   -7.214068    8.658688    -0.030195    -0.030195   \n",
       "\n",
       "            additive_terms  additive_terms_lower  additive_terms_upper  \\\n",
       "ds                                                                       \n",
       "2013-01-02        0.638613              0.638613              0.638613   \n",
       "2013-01-03        0.498984              0.498984              0.498984   \n",
       "2013-01-04        1.659850              1.659850              1.659850   \n",
       "2013-01-05        1.661414              1.661414              1.661414   \n",
       "2013-01-06        0.757997              0.757997              0.757997   \n",
       "\n",
       "              weekly  weekly_lower  weekly_upper    yearly  yearly_lower  \\\n",
       "ds                                                                         \n",
       "2013-01-02  0.686754      0.686754      0.686754 -0.048141     -0.048141   \n",
       "2013-01-03  0.561630      0.561630      0.561630 -0.062646     -0.062646   \n",
       "2013-01-04  1.735158      1.735158      1.735158 -0.075307     -0.075307   \n",
       "2013-01-05  1.747136      1.747136      1.747136 -0.085722     -0.085722   \n",
       "2013-01-06  0.851565      0.851565      0.851565 -0.093568     -0.093568   \n",
       "\n",
       "            yearly_upper  multiplicative_terms  multiplicative_terms_lower  \\\n",
       "ds                                                                           \n",
       "2013-01-02     -0.048141                   0.0                         0.0   \n",
       "2013-01-03     -0.062646                   0.0                         0.0   \n",
       "2013-01-04     -0.075307                   0.0                         0.0   \n",
       "2013-01-05     -0.085722                   0.0                         0.0   \n",
       "2013-01-06     -0.093568                   0.0                         0.0   \n",
       "\n",
       "            multiplicative_terms_upper      yhat  \n",
       "ds                                                \n",
       "2013-01-02                         0.0  0.608299  \n",
       "2013-01-03                         0.0  0.468700  \n",
       "2013-01-04                         0.0  1.629596  \n",
       "2013-01-05                         0.0  1.631189  \n",
       "2013-01-06                         0.0  0.727802  "
      ]
     },
     "execution_count": 112,
     "metadata": {},
     "output_type": "execute_result"
    }
   ],
   "source": [
    "prophet_prediction.head()"
   ]
  },
  {
   "cell_type": "markdown",
   "metadata": {},
   "source": [
    "Prophet returns a large dataframe consisting of many columns. Important columns that we look at are:\n",
    "\n",
    "* ds - the datestamp\n",
    "* yhat - the forecasted value \n",
    "* yhat_lower - lower bound of the forecast\n",
    "* yhat_upper - upper bound of the forecast"
   ]
  },
  {
   "cell_type": "code",
   "execution_count": 102,
   "metadata": {},
   "outputs": [],
   "source": [
    "prophet_prediction = prophet_prediction.set_index('ds')\n",
    "test = test.set_index('ds')\n",
    "test = test.y\n",
    "prophet_future = prophet_prediction.yhat.loc[prophet_prediction.index >= cutoff_date]"
   ]
  },
  {
   "cell_type": "markdown",
   "metadata": {},
   "source": [
    "We will be using The Mean Absolute Error (MAE) to evaluate the performance of our model.\n",
    "\n",
    "$$\n",
    "\\frac{1}{n}\\,\\sum_{i=1}^n{f_t - d_t}\n",
    "$$\n",
    "\n",
    "where: \n",
    "* $f_t$ is the forecasted demand\n",
    "* $d_t$ is the actual demand\n",
    "* $n$ is the number of historical periods where you have both a forecast and a demand"
   ]
  },
  {
   "cell_type": "code",
   "execution_count": 103,
   "metadata": {},
   "outputs": [
    {
     "name": "stdout",
     "output_type": "stream",
     "text": [
      "Prophet MAE =  5.143516561234938\n"
     ]
    }
   ],
   "source": [
    "print('Prophet MAE = ', mean_absolute_error(prophet_future, test))"
   ]
  },
  {
   "cell_type": "code",
   "execution_count": 110,
   "metadata": {},
   "outputs": [],
   "source": [
    "test.index = pd.to_datetime(test.index)\n",
    "prophet_future.index = pd.to_datetime(prophet_future.index)"
   ]
  },
  {
   "cell_type": "code",
   "execution_count": 111,
   "metadata": {},
   "outputs": [
    {
     "data": {
      "text/plain": [
       "Text(0.5, 1.0, 'SARIMAX Prediction')"
      ]
     },
     "execution_count": 111,
     "metadata": {},
     "output_type": "execute_result"
    },
    {
     "data": {
      "image/png": "[encoded data removed]",
      "text/plain": [
       "<Figure size 864x432 with 1 Axes>"
      ]
     },
     "metadata": {
      "needs_background": "light"
     },
     "output_type": "display_data"
    }
   ],
   "source": [
    "fig = plt.figure(figsize = (12,6))\n",
    "sales = plt.plot(test[cutoff_date:], label = 'Observed Sales')\n",
    "forecast = plt.plot(prophet_future, label = 'Forecasted Sales')\n",
    "plt.legend(loc = 'best')\n",
    "plt.title(\"SARIMAX Prediction\")"
   ]
  },
  {
   "cell_type": "code",
   "execution_count": null,
   "metadata": {},
   "outputs": [],
   "source": []
  }
 ],
 "metadata": {
  "kernelspec": {
   "display_name": "Python 3",
   "language": "python",
   "name": "python3"
  },
  "language_info": {
   "codemirror_mode": {
    "name": "ipython",
    "version": 3
   },
   "file_extension": ".py",
   "mimetype": "text/x-python",
   "name": "python",
   "nbconvert_exporter": "python",
   "pygments_lexer": "ipython3",
   "version": "3.7.6"
  }
 },
 "nbformat": 4,
 "nbformat_minor": 4
}
